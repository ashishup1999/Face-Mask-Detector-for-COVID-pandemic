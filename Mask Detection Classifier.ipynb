{
 "cells": [
  {
   "cell_type": "code",
   "execution_count": 1,
   "id": "0d8d2dc2",
   "metadata": {},
   "outputs": [],
   "source": [
    "import torch\n",
    "import torch.nn as nn\n",
    "import torchvision\n",
    "from torchvision import transforms,datasets\n",
    "from torch.utils.data import Dataset,DataLoader\n",
    "import numpy as np\n",
    "import pandas as pd\n",
    "from matplotlib.pyplot import imshow\n",
    "import cv2\n",
    "from PIL import Image"
   ]
  },
  {
   "cell_type": "code",
   "execution_count": 2,
   "id": "9161b682",
   "metadata": {},
   "outputs": [],
   "source": [
    "transform=transforms.Compose([transforms.Resize((224,224)),\n",
    "                              transforms.ToTensor()])"
   ]
  },
  {
   "cell_type": "code",
   "execution_count": 3,
   "id": "598765a6",
   "metadata": {},
   "outputs": [],
   "source": [
    "train_dataset=datasets.ImageFolder(\"D:/Machine Learning Codes/5.Convolutional Neural Networks/Face Mask Dataset/Train\",\n",
    "                                  transform=transform)"
   ]
  },
  {
   "cell_type": "code",
   "execution_count": 4,
   "id": "908ac154",
   "metadata": {},
   "outputs": [],
   "source": [
    "train_dataloader=DataLoader(dataset=train_dataset,\n",
    "                      batch_size=32,\n",
    "                      shuffle=True)"
   ]
  },
  {
   "cell_type": "code",
   "execution_count": 5,
   "id": "6473afaa",
   "metadata": {},
   "outputs": [],
   "source": [
    "class Net(nn.Module):\n",
    "    def __init__(self):\n",
    "        super(Net,self).__init__()\n",
    "        model=torchvision.models.mobilenet_v3_large(pretrained=True)\n",
    "        for param in model.parameters():\n",
    "            param.requires_grad = False\n",
    "        self.net=nn.Sequential( model,\n",
    "                                nn.Linear(1000,1),\n",
    "                                nn.Sigmoid())\n",
    "    def forward(self,x):\n",
    "        return self.net(x)"
   ]
  },
  {
   "cell_type": "code",
   "execution_count": 6,
   "id": "ebe4ed81",
   "metadata": {},
   "outputs": [],
   "source": [
    "#loading model\n",
    "model=Net()"
   ]
  },
  {
   "cell_type": "code",
   "execution_count": 7,
   "id": "35303c42",
   "metadata": {},
   "outputs": [],
   "source": [
    "#optimizer and loss\n",
    "criterion=nn.BCELoss()\n",
    "opt=torch.optim.SGD(model.parameters(),lr=0.01)"
   ]
  },
  {
   "cell_type": "code",
   "execution_count": 8,
   "id": "a01d645e",
   "metadata": {},
   "outputs": [
    {
     "name": "stdout",
     "output_type": "stream",
     "text": [
      "->->->->->->->->->->->->->->->->->->->->->->->->->->->->->->->->\n",
      " Epoch 1 completed.\n",
      "->->->->->->->->->->->->->->->->->->->->->->->->->->->->->->->->\n",
      " Epoch 1 completed.\n",
      "->->->->->->->->->->->->->->->->->->->->->->->->->->->->->->->->\n",
      " Epoch 1 completed.\n",
      "->->->->->->->->->->->->->->->->->->->->->->->->->->->->->->->->\n",
      " Epoch 1 completed.\n",
      "->->->->->->->->->->->->->->->->->->->->->->->->->->->->->->->->\n",
      " Epoch 1 completed.\n",
      "->->->->->->->->->->->->->->->->->->->->->->->->->->->->->->->->\n",
      " Epoch 1 completed.\n",
      "->->->->->->->->->->->->->->->->->->->->->->->->->->->->->->->->\n",
      " Epoch 1 completed.\n",
      "->->->->->->->->->->->->->->->->->->->->->->->->->->->->->->->->\n",
      " Epoch 1 completed.\n",
      "->->->->->->->->->->->->->->->->->->->->->->->->->->->->->->->->\n",
      " Epoch 1 completed.\n",
      "->->->->->->->->->->->->->->->->->->->->->->->->->->->->->->->->\n",
      " Epoch 1 completed.\n"
     ]
    }
   ],
   "source": [
    "#training\n",
    "n_epochs=10\n",
    "tot_samples=len(train_dataset)\n",
    "for epoch in range(n_epochs):\n",
    "    for i,(x,y) in enumerate(train_dataloader):\n",
    "        y_pred=model(x)\n",
    "        loss=criterion(y_pred,y.reshape((y.shape[0],1)).type(torch.FloatTensor))\n",
    "        opt.zero_grad()\n",
    "        loss.backward()\n",
    "        opt.step()\n",
    "        if i%10==0:\n",
    "            print('->',end=\"\")\n",
    "    print(\"\\n Epoch 1 completed.\")"
   ]
  },
  {
   "cell_type": "code",
   "execution_count": 9,
   "id": "d64d596e",
   "metadata": {},
   "outputs": [],
   "source": [
    "#freezing all gradients\n",
    "for param in model.parameters():\n",
    "    param.requires_grad = False"
   ]
  },
  {
   "cell_type": "code",
   "execution_count": 10,
   "id": "2eb1ca43",
   "metadata": {},
   "outputs": [],
   "source": [
    "test_dataset=datasets.ImageFolder(\"D:/Machine Learning Codes/5.Convolutional Neural Networks/Face Mask Dataset/Test\",\n",
    "                                  transform=transform)"
   ]
  },
  {
   "cell_type": "code",
   "execution_count": 11,
   "id": "162cbb30",
   "metadata": {},
   "outputs": [],
   "source": [
    "test_dataloader=DataLoader(dataset=test_dataset,\n",
    "                      batch_size=32,\n",
    "                      shuffle=True)"
   ]
  },
  {
   "cell_type": "code",
   "execution_count": 12,
   "id": "b0d90ddc",
   "metadata": {},
   "outputs": [
    {
     "data": {
      "text/plain": [
       "array([[4968,   32],\n",
       "       [  27, 4973]])"
      ]
     },
     "execution_count": 12,
     "metadata": {},
     "output_type": "execute_result"
    }
   ],
   "source": [
    "#confussion matrix\n",
    "from sklearn.metrics import confusion_matrix\n",
    "cm=np.array([[0,0],\n",
    "             [0,0]])\n",
    "for i,(x,y) in enumerate(train_dataloader):\n",
    "    y_pred=torch.round(model(x))\n",
    "    y=y.reshape((y.shape[0],1)).type(torch.FloatTensor)\n",
    "    cm+=np.array(confusion_matrix(y,y_pred))\n",
    "cm"
   ]
  },
  {
   "cell_type": "code",
   "execution_count": null,
   "id": "3c9b055f",
   "metadata": {},
   "outputs": [],
   "source": []
  },
  {
   "cell_type": "code",
   "execution_count": 13,
   "id": "60b3724a",
   "metadata": {},
   "outputs": [
    {
     "name": "stdout",
     "output_type": "stream",
     "text": [
      "torch.Size([3, 533, 800])\n"
     ]
    }
   ],
   "source": [
    "transform = transforms.ToTensor()\n",
    "\n",
    "# load your image(s)\n",
    "img = Image.open(\"C:/Users/ashis/Downloads/mask_detect_test.jpg\")\n",
    "\n",
    "# Transform\n",
    "inp = transform(img)\n",
    "print(inp.shape)\n",
    "# unsqueeze batch dimension, in case you are dealing with a single image\n",
    "inp = inp.unsqueeze(0)\n",
    "\n",
    "# Set model to eval\n",
    "model.eval()\n",
    "\n",
    "# Get prediction\n",
    "output = model(inp)"
   ]
  },
  {
   "cell_type": "code",
   "execution_count": 14,
   "id": "f628f34a",
   "metadata": {},
   "outputs": [
    {
     "data": {
      "text/plain": [
       "tensor([[0.]])"
      ]
     },
     "execution_count": 14,
     "metadata": {},
     "output_type": "execute_result"
    }
   ],
   "source": [
    "torch.round(output)"
   ]
  },
  {
   "cell_type": "code",
   "execution_count": 16,
   "id": "3a9d2000",
   "metadata": {},
   "outputs": [],
   "source": [
    "torch.save(model.state_dict(),\"mask_classifier_state_dict.pth\")"
   ]
  },
  {
   "cell_type": "code",
   "execution_count": 17,
   "id": "5704322b",
   "metadata": {},
   "outputs": [],
   "source": [
    "torch.save(model,\"mask_classifier.pth\")"
   ]
  },
  {
   "cell_type": "code",
   "execution_count": null,
   "id": "ca787eaf",
   "metadata": {},
   "outputs": [],
   "source": []
  }
 ],
 "metadata": {
  "kernelspec": {
   "display_name": "Python 3",
   "language": "python",
   "name": "python3"
  },
  "language_info": {
   "codemirror_mode": {
    "name": "ipython",
    "version": 3
   },
   "file_extension": ".py",
   "mimetype": "text/x-python",
   "name": "python",
   "nbconvert_exporter": "python",
   "pygments_lexer": "ipython3",
   "version": "3.8.10"
  }
 },
 "nbformat": 4,
 "nbformat_minor": 5
}
